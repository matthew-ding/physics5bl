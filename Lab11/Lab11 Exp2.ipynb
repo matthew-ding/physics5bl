{
 "cells": [
  {
   "cell_type": "code",
   "execution_count": 1,
   "id": "6796ed8e-bdee-4c66-b128-f86c880e7cad",
   "metadata": {},
   "outputs": [],
   "source": [
    "import numpy as np\n",
    "import scipy.optimize as opt\n",
    "import matplotlib.pyplot as plt\n",
    "%matplotlib inline\n"
   ]
  },
  {
   "cell_type": "code",
   "execution_count": null,
   "id": "d6282371-d167-44da-a9b2-9f4467fd5340",
   "metadata": {},
   "outputs": [],
   "source": [
    "L = 0.509\n",
    "T = .149 * 9.8\n",
    "\n",
    "def freq_model(n, mu):\n",
    "    return n / (2 * L * np.sqrt(mu / T))\n",
    "\n",
    "def calc_norm_res(predicted, observed, errors):\n",
    "    res = observed-predicted\n",
    "    return res / errors \n"
   ]
  }
 ],
 "metadata": {
  "kernelspec": {
   "display_name": "Python 3 (ipykernel)",
   "language": "python",
   "name": "python3"
  },
  "language_info": {
   "codemirror_mode": {
    "name": "ipython",
    "version": 3
   },
   "file_extension": ".py",
   "mimetype": "text/x-python",
   "name": "python",
   "nbconvert_exporter": "python",
   "pygments_lexer": "ipython3",
   "version": "3.9.7"
  }
 },
 "nbformat": 4,
 "nbformat_minor": 5
}
