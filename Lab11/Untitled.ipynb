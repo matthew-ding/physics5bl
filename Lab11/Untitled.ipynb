{
 "cells": [
  {
   "cell_type": "code",
   "execution_count": 1,
   "id": "867d86ab-3e26-4187-8a19-e53309720bf7",
   "metadata": {},
   "outputs": [],
   "source": [
    "import numpy as np\n",
    "import scipy.optimize as opt\n",
    "import pandas as pd\n",
    "from scipy.interpolate import interp1d\n",
    "import matplotlib\n",
    "import matplotlib.pyplot as plt\n",
    "import scipy.optimize as opt\n",
    "import matplotlib.pyplot as plt\n",
    "%matplotlib inline\n"
   ]
  },
  {
   "cell_type": "code",
   "execution_count": 18,
   "id": "2ed25166-83cb-4878-ad26-d265ed9cd973",
   "metadata": {},
   "outputs": [],
   "source": [
    "estimated_mass_density = 4.5e-3\n",
    "\n",
    "def est_freq(n, L, mu, T):\n",
    "    return n / (2 * L * np.sqrt(mu / T))\n",
    "\n",
    "def est_mass(n, L, mu, f):\n",
    "    return (mu * (2 * f * L) ** 2) / (np.power(n, 2) * 9.81)\n",
    "\n",
    "calc_mass_density = .005\n"
   ]
  },
  {
   "cell_type": "code",
   "execution_count": 12,
   "id": "81954b64-f309-40f6-b0f4-212026c082b9",
   "metadata": {},
   "outputs": [
    {
     "data": {
      "text/plain": [
       "array([ 18.01357513,  36.02715026,  54.04072538,  72.05430051,\n",
       "        90.06787564, 108.08145077, 126.0950259 ])"
      ]
     },
     "execution_count": 12,
     "metadata": {},
     "output_type": "execute_result"
    }
   ],
   "source": [
    "est_freq(range(1,8), .5, 4.5e-3, 149e-3 * 9.8)"
   ]
  },
  {
   "cell_type": "code",
   "execution_count": 19,
   "id": "b521a430-07c5-4f31-821e-24149f8920b4",
   "metadata": {},
   "outputs": [
    {
     "data": {
      "text/plain": [
       "array([4.17438057, 1.04359514, 0.46382006, 0.26089879, 0.16697522,\n",
       "       0.11595502, 0.08519144])"
      ]
     },
     "execution_count": 19,
     "metadata": {},
     "output_type": "execute_result"
    }
   ],
   "source": [
    "est_mass(range(1,8), 1.492, .00511, 30)"
   ]
  },
  {
   "cell_type": "code",
   "execution_count": 16,
   "id": "8d13ac64-c29a-4158-9ab4-0f1ba787afa3",
   "metadata": {},
   "outputs": [],
   "source": [
    "freq = np.array([18, 40.5, 58.75, 78, 97.5, 116.5, 134.25])\n",
    "\n"
   ]
  },
  {
   "cell_type": "code",
   "execution_count": 17,
   "id": "90e22bdc-3279-48e8-ba05-41c02ce431ac",
   "metadata": {},
   "outputs": [
    {
     "data": {
      "text/plain": [
       "16.607142857142858"
      ]
     },
     "execution_count": 17,
     "metadata": {},
     "output_type": "execute_result"
    }
   ],
   "source": [
    "total = 0\n",
    "\n",
    "for n in range(1, len(freq)):\n",
    "    total += freq[n] - freq[n-1]\n",
    "    \n",
    "total / len(freq)"
   ]
  },
  {
   "cell_type": "code",
   "execution_count": null,
   "id": "9f36dbf2-cc13-4e4f-80bd-f2b05624955d",
   "metadata": {},
   "outputs": [],
   "source": []
  }
 ],
 "metadata": {
  "kernelspec": {
   "display_name": "Python 3 (ipykernel)",
   "language": "python",
   "name": "python3"
  },
  "language_info": {
   "codemirror_mode": {
    "name": "ipython",
    "version": 3
   },
   "file_extension": ".py",
   "mimetype": "text/x-python",
   "name": "python",
   "nbconvert_exporter": "python",
   "pygments_lexer": "ipython3",
   "version": "3.9.7"
  }
 },
 "nbformat": 4,
 "nbformat_minor": 5
}
