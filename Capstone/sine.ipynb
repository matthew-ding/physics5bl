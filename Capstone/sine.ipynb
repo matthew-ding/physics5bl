{
 "cells": [
  {
   "cell_type": "code",
   "execution_count": 1,
   "id": "1926817c-390c-4a12-8c05-40fcfc6442cf",
   "metadata": {
    "tags": []
   },
   "outputs": [],
   "source": [
    "# functions for reading and writing TFW files\n",
    "# AFG1k, AFG2k, AFG3ks\n",
    "\n",
    "# TFW files are a simplistic binary\n",
    "# they only contain shape data\n",
    "# amplitude, offset, and timing are applied at run-time by AFG settings\n",
    "\n",
    "# https://www.tek.com/sample-license\n",
    "\n",
    "import struct\n",
    "import numpy as np\n",
    "import matplotlib.pyplot as plt"
   ]
  },
  {
   "cell_type": "code",
   "execution_count": 2,
   "id": "e30e4528-303b-4d17-beef-6e3cf53d1efe",
   "metadata": {},
   "outputs": [],
   "source": [
    "class TFW_Read_Error(Exception):\n",
    "    \"\"\"general error for TFW file operations\"\"\"\n",
    "    pass\n",
    "\n",
    "def read_tfw(target):\n",
    "    \"\"\"open target file and return numpy array of digital dac values\"\"\"\n",
    "    with open(target, 'rb') as f:\n",
    "        h = f.read(512)\n",
    "        if len(h) != 512:\n",
    "            raise TFW_Read_Error('file too small')\n",
    "        m = struct.unpack_from('>10s6x3I', h)\n",
    "        if m[0] != b'TEKAFG3000':\n",
    "            raise TFW_Read_Error('missing TFW identifier \"TEKAFG3000\"')\n",
    "        if m[1] != 20050114:\n",
    "            raise TFW_Read_Error('version not 20050114')\n",
    "        samples = m[2]\n",
    "        dac_values = np.fromfile(f, dtype='>u2', count=samples)\n",
    "    return dac_values\n",
    "\n",
    "def normal_vector(vector, ymax=16382, ymin=0, dtype='>u2'):\n",
    "    \"\"\"normalize vector to integer values between ymin and ymax\"\"\"\n",
    "    m = (ymax - ymin) / (vector.max() - vector.min())\n",
    "    b = ymax - (m * vector.max())\n",
    "    n = m * vector + b\n",
    "    n = np.array(n, dtype=dtype)\n",
    "    return n\n",
    "\n",
    "def envelope_vector(dac_values):\n",
    "    \"\"\"return envelope vector from dac_values\"\"\"\n",
    "    # envelope is maximum 206 uint8 min-max pairs\n",
    "    n = np.array(dac_values >> 6, dtype=np.uint8)\n",
    "    if len(dac_values) <= 206:\n",
    "        upper = n\n",
    "        lower = n\n",
    "    else:\n",
    "        segments = np.array_split(n, 206)\n",
    "        upper = np.zeros(206, dtype=np.uint8)\n",
    "        lower = np.zeros(206, dtype=np.uint8)\n",
    "        for i, s in enumerate(segments):\n",
    "            upper[i] = s.max()\n",
    "            lower[i] = s.min()\n",
    "    c = np.vstack((lower, upper)).reshape(-1, order='F')\n",
    "    return c\n",
    "\n",
    "def write_tfw(target, dac_values):\n",
    "    \"\"\"write target file in TFW format with dac_values\"\"\"\n",
    "    d = np.array((dac_values & 0x3fff), dtype='>u2') # cast and mask\n",
    "    samples = len(d)\n",
    "    # an envelope vector is used for arb plot on AFG\n",
    "    envelope = envelope_vector(d)\n",
    "    header = bytearray(512)\n",
    "    struct.pack_into('>10s6x3I',    # format\n",
    "                     header,        # buffer\n",
    "                     0,             # offset\n",
    "                     b'TEKAFG3000', # magic bytes\n",
    "                     20050114,      # version\n",
    "                     samples,       # length\n",
    "                     1)             # envelope flag\n",
    "    header[28:28+len(envelope)] = memoryview(envelope)\n",
    "    with open(target, 'wb') as f:\n",
    "        f.write(header)\n",
    "        f.write(memoryview(d))\n",
    "\n",
    "def write_tfw_no_envelope(target, dac_values):\n",
    "    \"\"\"write target file in TFW format with dac_values omitting envelope\"\"\"\n",
    "    d = np.array((dac_values & 0x3fff), dtype='>u2') # cast and mask\n",
    "    samples = len(d)\n",
    "    header = bytearray(512)\n",
    "    struct.pack_into('>10s6x3I',    # format\n",
    "                     header,        # buffer\n",
    "                     0,             # offset\n",
    "                     b'TEKAFG3000', # magic bytes\n",
    "                     20050114,      # version\n",
    "                     samples,       # length\n",
    "                     0)             # envelope flag\n",
    "    with open(target, 'wb') as f:\n",
    "        f.write(header)\n",
    "        f.write(memoryview(d))"
   ]
  },
  {
   "cell_type": "code",
   "execution_count": 3,
   "id": "68e3c40f-89b6-4264-9360-5cd3d12d2f74",
   "metadata": {},
   "outputs": [],
   "source": [
    "file = 'example.tfw'\n",
    "samples = 10000\n",
    "t = np.arange(1, samples, dtype=np.uint16)\n",
    "# y = np.sin(np.pi * t / samples) * np.sin(2 * np.pi * t / samples * cycles)\n",
    "# print(t)\n",
    "y = np.sin(2 * np.pi * t / samples) + np.sin(2 * np.pi * t / samples * 100) / 25\n",
    "n = normal_vector(y)\n",
    "# print(n)\n",
    "write_tfw(file, n)"
   ]
  },
  {
   "cell_type": "code",
   "execution_count": 4,
   "id": "ed98bea4-29be-416c-b3e4-290e88fc783f",
   "metadata": {},
   "outputs": [
    {
     "data": {
      "text/plain": [
       "[<matplotlib.lines.Line2D at 0x10d652590>]"
      ]
     },
     "execution_count": 4,
     "metadata": {},
     "output_type": "execute_result"
    },
    {
     "data": {
      "image/png": "[encoded data removed]",
      "text/plain": [
       "<Figure size 432x288 with 1 Axes>"
      ]
     },
     "metadata": {
      "needs_background": "light"
     },
     "output_type": "display_data"
    }
   ],
   "source": [
    "plt.plot(t, n)"
   ]
  },
  {
   "cell_type": "code",
   "execution_count": null,
   "id": "26031b1b-a060-4d19-90c7-bf249206df35",
   "metadata": {},
   "outputs": [],
   "source": []
  },
  {
   "cell_type": "code",
   "execution_count": null,
   "id": "3e11e556-e002-4488-8ae5-3a1c5de94082",
   "metadata": {},
   "outputs": [],
   "source": []
  },
  {
   "cell_type": "code",
   "execution_count": null,
   "id": "5ffd8867-4fe7-41a2-b2db-e50c4a0ac289",
   "metadata": {},
   "outputs": [],
   "source": []
  }
 ],
 "metadata": {
  "kernelspec": {
   "display_name": "Python 3 (ipykernel)",
   "language": "python",
   "name": "python3"
  },
  "language_info": {
   "codemirror_mode": {
    "name": "ipython",
    "version": 3
   },
   "file_extension": ".py",
   "mimetype": "text/x-python",
   "name": "python",
   "nbconvert_exporter": "python",
   "pygments_lexer": "ipython3",
   "version": "3.10.1"
  }
 },
 "nbformat": 4,
 "nbformat_minor": 5
}
