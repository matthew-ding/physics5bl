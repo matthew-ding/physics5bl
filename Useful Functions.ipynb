{
 "cells": [
  {
   "cell_type": "code",
   "execution_count": 4,
   "id": "bd1809ac-7219-4950-bdc2-4321b50174f4",
   "metadata": {},
   "outputs": [],
   "source": [
    "import numpy as np"
   ]
  },
  {
   "cell_type": "code",
   "execution_count": 13,
   "id": "5e91cdaa-5df7-4cd6-abf7-d3b5c4ef78f1",
   "metadata": {},
   "outputs": [],
   "source": [
    "def norm_res(predicted, observed, errors):\n",
    "    res = observed-predicted\n",
    "    return res / errors \n",
    "\n",
    "def chi_2(predicted, observed, errors):\n",
    "    return np.sum(((observed-predicted) / errors) ** 2)\n",
    "\n",
    "def red_chi_2(predicted, observed, errors, DoF):\n",
    "    return np.sum(((observed-predicted) / errors) ** 2) / DoF"
   ]
  },
  {
   "cell_type": "code",
   "execution_count": 19,
   "id": "09b0b564-f9ea-48af-a3d1-7c96d6ee8b25",
   "metadata": {},
   "outputs": [
    {
     "data": {
      "text/plain": [
       "0.009520795038796506"
      ]
     },
     "execution_count": 19,
     "metadata": {},
     "output_type": "execute_result"
    }
   ],
   "source": [
    "red_chi_2(np.array([.4934,.5853,.8646,1.0876,1.3876]) ** 2,np.array([.24,.34,.75,1.18,1.93]),np.array([.24,.34,.75,1.18,1.93]) * .1, 3)\n"
   ]
  },
  {
   "cell_type": "code",
   "execution_count": null,
   "id": "43ec9c2e-8bb1-4b8c-a27b-11a5d0045dee",
   "metadata": {},
   "outputs": [],
   "source": []
  }
 ],
 "metadata": {
  "kernelspec": {
   "display_name": "Python 3 (ipykernel)",
   "language": "python",
   "name": "python3"
  },
  "language_info": {
   "codemirror_mode": {
    "name": "ipython",
    "version": 3
   },
   "file_extension": ".py",
   "mimetype": "text/x-python",
   "name": "python",
   "nbconvert_exporter": "python",
   "pygments_lexer": "ipython3",
   "version": "3.9.7"
  }
 },
 "nbformat": 4,
 "nbformat_minor": 5
}
