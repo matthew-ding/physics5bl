{
 "cells": [
  {
   "cell_type": "code",
   "execution_count": 1,
   "metadata": {},
   "outputs": [],
   "source": [
    "import numpy as np\n",
    "import scipy.optimize as opt\n",
    "import pandas as pd\n",
    "from scipy.interpolate import interp1d\n",
    "import matplotlib\n",
    "import matplotlib.pyplot as plt\n",
    "%matplotlib inline"
   ]
  },
  {
   "cell_type": "code",
   "execution_count": 3,
   "metadata": {},
   "outputs": [
    {
     "name": "stdout",
     "output_type": "stream",
     "text": [
      "[[ 9.99999978e-03  3.21838558e-02  0.00000000e+00]\n",
      " [ 1.99999996e-02  2.27177422e-02  0.00000000e+00]\n",
      " [ 2.99999993e-02  2.27177422e-02  0.00000000e+00]\n",
      " ...\n",
      " [ 2.24500008e+01 -1.51467025e-02 -1.00000005e-03]\n",
      " [ 2.24599991e+01 -5.68059133e-03 -1.00000005e-03]\n",
      " [ 2.24699993e+01 -1.51467025e-02 -1.00000005e-03]]\n"
     ]
    }
   ],
   "source": [
    "data = pd.read_csv('Lab7_Part1.csv')\n",
    "data = pd.DataFrame(data).to_numpy()\n",
    "p"
   ]
  },
  {
   "cell_type": "code",
   "execution_count": 6,
   "metadata": {},
   "outputs": [
    {
     "name": "stdout",
     "output_type": "stream",
     "text": [
      "[ 0.     0.     0.    ... -0.001 -0.001 -0.001]\n"
     ]
    }
   ],
   "source": [
    "time = data[:,0]\n",
    "force = data[:,1]\n",
    "displacement = data[:,2]\n",
    "print(displacement)"
   ]
  },
  {
   "cell_type": "code",
   "execution_count": null,
   "metadata": {},
   "outputs": [],
   "source": []
  }
 ],
 "metadata": {
  "interpreter": {
   "hash": "aee8b7b246df8f9039afb4144a1f6fd8d2ca17a180786b69acc140d282b71a49"
  },
  "kernelspec": {
   "display_name": "Python 3.9.7 64-bit",
   "language": "python",
   "name": "python3"
  },
  "language_info": {
   "codemirror_mode": {
    "name": "ipython",
    "version": 3
   },
   "file_extension": ".py",
   "mimetype": "text/x-python",
   "name": "python",
   "nbconvert_exporter": "python",
   "pygments_lexer": "ipython3",
   "version": "3.9.7"
  },
  "orig_nbformat": 4
 },
 "nbformat": 4,
 "nbformat_minor": 2
}
