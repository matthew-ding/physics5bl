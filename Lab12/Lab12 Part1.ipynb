{
 "cells": [
  {
   "cell_type": "markdown",
   "id": "6e336672-6c71-4250-bc0b-0f6dda6795c9",
   "metadata": {},
   "source": [
    "Note that this data was taken by the Labsters of whatever they call themselves now (Corina, Alicia, and Bryce)"
   ]
  },
  {
   "cell_type": "code",
   "execution_count": 1,
   "id": "e667a31f-a362-4ec6-bcfc-c2be9b23ec87",
   "metadata": {},
   "outputs": [],
   "source": [
    "import numpy as np\n",
    "import scipy.optimize as opt\n",
    "import pandas as pd\n",
    "from scipy.interpolate import interp1d\n",
    "import matplotlib\n",
    "import matplotlib.pyplot as plt\n",
    "%matplotlib inline\n"
   ]
  },
  {
   "cell_type": "code",
   "execution_count": 11,
   "id": "9585a0cf-7089-4ba1-bf61-c2cdd5b37dea",
   "metadata": {},
   "outputs": [],
   "source": [
    "raw_data = pd.read_csv('Lab12 Part1.csv')\n",
    "raw_data = pd.DataFrame(raw_data).to_numpy()\n",
    "\n",
    "time_raw = raw_data[:,0]\n",
    "omega_raw = raw_data[:,1]\n",
    "mV_raw = raw_data[:,2]\n",
    "\n",
    "omega_interp = interp1d(time_raw, omega_raw, kind=\"linear\")\n",
    "mV_interp = interp1d(time_raw, mV_raw, kind=\"linear\")\n"
   ]
  },
  {
   "cell_type": "code",
   "execution_count": 14,
   "id": "009f34c4-e9de-47fc-bdf6-a9a8f7220b3f",
   "metadata": {},
   "outputs": [],
   "source": [
    "start_time = time_raw[0]\n",
    "stop_time = time_raw[-1]\n",
    "step_size = 0.005\n",
    "time = np.arange(start_time, stop_time, step_size)\n",
    "\n",
    "omega = omega_interp(time)\n",
    "mV = mV_interp(time)\n"
   ]
  },
  {
   "cell_type": "code",
   "execution_count": null,
   "id": "1bb61407-a74e-444e-b625-d64f8aa269e4",
   "metadata": {},
   "outputs": [],
   "source": [
    "# Two subplots, the axes array is shared\n",
    "# Choose the sensor for fitting.\n",
    "f, axarr = plt.subplots(2, sharex=True)\n",
    "# plt.xlim(start_time, stop_time)\n",
    "axarr[0].plot(time, mV)\n",
    "axarr[0].set_title('Part 1: Induction')\n",
    "axarr[0].set_ylabel('Voltage (mV)', fontsize=10)\n",
    "axarr[1].plot(time, Bz)\n",
    "axarr[1].set_ylabel(r'Magnetic Field $\\mu T$', fontsize=8)\n",
    "axarr[2].plot(time, dBz)\n",
    "axarr[2].set_xlabel('time (s)')\n",
    "axarr[2].set_ylabel(r'$\\Delta$Magnetic Field $\\mu T / s$', fontsize=7)\n",
    "plt.show()\n",
    "\n"
   ]
  }
 ],
 "metadata": {
  "kernelspec": {
   "display_name": "Python 3 (ipykernel)",
   "language": "python",
   "name": "python3"
  },
  "language_info": {
   "codemirror_mode": {
    "name": "ipython",
    "version": 3
   },
   "file_extension": ".py",
   "mimetype": "text/x-python",
   "name": "python",
   "nbconvert_exporter": "python",
   "pygments_lexer": "ipython3",
   "version": "3.9.7"
  }
 },
 "nbformat": 4,
 "nbformat_minor": 5
}
