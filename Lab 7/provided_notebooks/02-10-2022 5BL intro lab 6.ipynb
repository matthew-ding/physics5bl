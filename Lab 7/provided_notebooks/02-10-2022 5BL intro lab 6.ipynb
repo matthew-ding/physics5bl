{
 "cells": [
  {
   "cell_type": "markdown",
   "metadata": {},
   "source": [
    "# Lab notebook: intro lab 6 \n",
    "\n",
    "Written by Dana Griffith\n",
    "\n",
    "5BL spring 2022\n",
    "\n",
    "Last updated: 02/10/2022 at 2pm "
   ]
  },
  {
   "cell_type": "code",
   "execution_count": 3,
   "metadata": {
    "collapsed": true
   },
   "outputs": [],
   "source": [
    "import numpy as np\n",
    "import math"
   ]
  },
  {
   "cell_type": "code",
   "execution_count": 12,
   "metadata": {
    "collapsed": true
   },
   "outputs": [],
   "source": [
    "#DATA \n",
    "#Each trial is the time it takes for 10 oscillations\n",
    "#3 trials per mass \n",
    "\n",
    "mass = [100, 200] #grams\n",
    "mass100 = [4.78,4.81,4.72,4.81,4.78,4.79,4.72] #seconds, 3 trials for 100g mass\n",
    "mass200 = [6.44,6.5,6.47,6.38,6.34,6.47,6.5] #seconds, 3 trials for 200g mass"
   ]
  },
  {
   "cell_type": "code",
   "execution_count": 17,
   "metadata": {
    "collapsed": true
   },
   "outputs": [],
   "source": [
    "#CALCULATIONS\n",
    "#Average, st dev, st error, and total error for each mass\n",
    "\n",
    "#100g mass trials (n=1)\n",
    "avg100 = np.mean(mass100) #average\n",
    "stdev100 = np.std(mass100) #standard dev\n",
    "sterr100 = stdev100/np.sqrt(7) #standard error = std dev / sqrt(N trials)\n",
    "toterr100 = sterr100**2 #total error = (standard error)^2\n",
    "\n",
    "#200g mass trials (n=2)\n",
    "avg200 = np.mean(mass200) #average\n",
    "stdev200 = np.std(mass200) #standard dev\n",
    "sterr200 = stdev200/np.sqrt(7) #standard error = std dev / sqrt(N trials)\n",
    "toterr200 = sterr200**2 #total error = (standard error)^2"
   ]
  },
  {
   "cell_type": "code",
   "execution_count": 18,
   "metadata": {
    "collapsed": true
   },
   "outputs": [],
   "source": [
    "#MOMENT OF INERTIA\n",
    "I_holder = 100 #g*cm^2\n",
    "dI_holder = 3.2\n",
    "\n",
    "I_disk = 286.8 #g*cm^2\n",
    "dI_disk = 6.6"
   ]
  },
  {
   "cell_type": "code",
   "execution_count": 34,
   "metadata": {
    "collapsed": true
   },
   "outputs": [],
   "source": [
    "#ERROR CALCULATIONS\n",
    "\n",
    "\n",
    "#Period, error, fractional error, etc\n",
    "#100g mass\n",
    "\n",
    "#Period\n",
    "period100 = avg100/10 #period = mean/10 oscillations\n",
    "period100_2 = period100**2 #period^2\n",
    "\n",
    "#Error in period\n",
    "alphaT_100 = toterr100/10 #alphaT = total error/10 oscillations\n",
    "alphaT2_100 = 2 * period100 * alphaT_100 #alpha_T2\n",
    "\n",
    "#Moment of inertia (error, fractional error)\n",
    "I100 = 1*(I_holder + I_disk) #times 1 because n=1\n",
    "alpha_I100 = np.sqrt(dI_holder**2 + dI_disk**2) #I error\n",
    "fractionalI100 = I100/alpha_I100 #fractional I error\n",
    "\n",
    "#Ratio alpha_I/I to alpha_T^2/T^2:\n",
    "ratio100 = fractionalI100/(alphaT2_100/period100_2) #ratio of fractional I error to fractional period^2 error\n",
    "\n",
    "\n",
    "\n",
    "\n",
    "#200g mass\n",
    "\n",
    "#Period\n",
    "period200 = avg200/10 #period = mean/10 oscillations\n",
    "period200_2 = period200**2 #period^2\n",
    "\n",
    "#Error in period\n",
    "alphaT_200 = toterr200/10 #alphaT = total error/10 oscillations\n",
    "alphaT2_200 = 2 * period200 * alphaT_200 #alpha_T2\n",
    "\n",
    "#Moment of inertia (error, fractional error)\n",
    "I200 = 2*(I_holder + I_disk) #times 2 because n=2\n",
    "alpha_I200 = np.sqrt(dI_holder**2 + (2*dI_disk)**2)\n",
    "fractionalI200 = I200/alpha_I200\n",
    "\n",
    "#Ratio alpha_I/I to alpha_T^2/T^2:\n",
    "ratio200 = fractionalI200/(alphaT2_200/period200_2)"
   ]
  },
  {
   "cell_type": "markdown",
   "metadata": {},
   "source": [
    "# Chi squared zero"
   ]
  },
  {
   "cell_type": "code",
   "execution_count": 31,
   "metadata": {},
   "outputs": [
    {
     "name": "stdout",
     "output_type": "stream",
     "text": [
      "Polynomial coefficients: [ -3.20906690e-20   2.27801653e-01]\n",
      "Residuals: [ 1.39595247  0.2265319 ]\n"
     ]
    }
   ],
   "source": [
    "#LINEAR REGRESSION\n",
    "#use polyfit of order 1 (aka a linear fit)\n",
    "#polyfit info: https://numpy.org/doc/stable/reference/generated/numpy.polyfit.html\n",
    "\n",
    "linest = np.polyfit([I100,I200],[period100_2,period100_2],1,full=True)\n",
    "print('Polynomial coefficients:',linest[0])\n",
    "print('Residuals:',linest[3])"
   ]
  },
  {
   "cell_type": "code",
   "execution_count": 35,
   "metadata": {},
   "outputs": [],
   "source": [
    "#CHI SQUARED ZERO\n",
    "#We will now calculate the \n",
    "\n",
    "#n=1 (100g mass)\n",
    "y_x100 = linest[0][0]*period100_2 + linest[3][0] #y(x)\n",
    "res100 = linest[3][0] #residual \n",
    "normres100 = res100/alpha_I100 #normalized residual \n",
    "\n",
    "#will need these error values later\n",
    "alphaI0_100 = alphaT2_100 * linest[0][0] #alpha_I0\n",
    "alphatau100 = alpha_I100 * alphaI0_100 #alpha_tau\n",
    "\n",
    "\n",
    "#n=2 (200g mass)\n",
    "y_x200 = linest[0][0]*period200_2 + linest[3][0]\n",
    "res200 = linest[3][1]\n",
    "normres200 = res200/alpha_I200\n",
    "\n",
    "#will need these error values later\n",
    "alphaI0_200 = alphaT2_200 * linest[0][0]\n",
    "alphatau200 = alpha_I200 * alphaI0_200\n",
    "\n",
    "#reduced chi squared\n",
    "redchisq = np.sum([normres100,normres200])/1 #div by 1 from: n=2 masses - 1 "
   ]
  },
  {
   "cell_type": "code",
   "execution_count": 36,
   "metadata": {
    "collapsed": true
   },
   "outputs": [],
   "source": [
    "#Plot of torsional oscillator\n",
    "#y axis: moment of inertia\n",
    "#x axis: period^2 "
   ]
  },
  {
   "cell_type": "markdown",
   "metadata": {},
   "source": [
    "# Chi squared weighted"
   ]
  },
  {
   "cell_type": "code",
   "execution_count": 44,
   "metadata": {},
   "outputs": [
    {
     "name": "stdout",
     "output_type": "stream",
     "text": [
      "2065.10936858\n"
     ]
    }
   ],
   "source": [
    "#n=1\n",
    "w100 = 1/(alphatau100**2) #weight\n",
    "xyw100 = period100_2 * I100 * w100 #xyw\n",
    "x2w100 = period100_2**2 * w100 #x^2 * w\n",
    "whalf100 = 1/alphatau100 #w^(0.5)\n",
    "\n",
    "#n=2\n",
    "w200 = 1/(alphatau200**2) #weight\n",
    "xyw200 = period200_2 * I200 * w200\n",
    "x2w200 = period200_2**2 * w200\n",
    "whalf200 = 1/alphatau200\n",
    "\n",
    "\n",
    "\n",
    "#will need these sums to calculate the slope\n",
    "xyw = np.sum([xyw100,xyw200]) #etc\n",
    "w = np.sum([w100, w200]) \n",
    "x2w = np.sum([x2w100,x2w200])\n",
    "zeroslope = xyw/x2w #weighted LINEAR, zero intercept\n",
    "\n",
    "\n",
    "\n",
    "#n=1\n",
    "ressq100 = I100 - (zeroslope*period100_2)**2 #residual squared\n",
    "xsq100 = period100_2**2 #x^2\n",
    "xw100 = period100_2 * w100 #xw\n",
    "wy100 = I100 * w100 #wy\n",
    "\n",
    "#n=2\n",
    "ressq200 = I200 - (zeroslope*period200_2)**2\n",
    "xsq200 = period200_2**2 #x^2\n",
    "xw200 = period200_2 * w200\n",
    "wy200 = I200 * w200\n",
    "\n",
    "\n",
    "#calculate more parts of the chi squared eqn\n",
    "xw = np.sum([xw100, xw200])\n",
    "wy = np.sum([wy100,wy200])"
   ]
  },
  {
   "cell_type": "code",
   "execution_count": 47,
   "metadata": {
    "collapsed": true
   },
   "outputs": [],
   "source": [
    "#Weighted slope\n",
    "\n",
    "slope = ((w*xyw)-(xw*wy))/((w*x2w)-(xw*xw)) #WEIGHTED nonzero slope\n",
    "slope_err = np.sqrt(w/((w*x2w)-(xw*xw))) #error in slope\n",
    "intercept = ((x2w*wy)-(xw*xyw))/((w*x2w)-(xw*xw))\n",
    "intercept_err = np.sqrt(x2w/((w*x2w)-(xw*xw))) #error in intercept\n",
    "\n",
    "#n=1\n",
    "y_xwtd100 = slope*period100_2 + intercept #y(x) weighted\n",
    "reswtd100 = I100 - y_xwtd100 #weighted residual\n",
    "normreswtd100 = reswtd100/alphatau100 #normalized weighted residual\n",
    "normressqwtd100 = normreswtd100**2 #normalized residual squared\n",
    "\n",
    "#n=2\n",
    "y_xwtd200 = slope*period200_2 + intercept\n",
    "reswtd200 = I100 - y_xwtd200\n",
    "normreswtd200 = reswtd200/alphatau200\n",
    "normressqwtd200 = normreswtd200**2\n",
    "\n",
    "chisqwtd = np.mean([normressqwtd100,normressqwtd200]) #weighted chi^2"
   ]
  },
  {
   "cell_type": "code",
   "execution_count": null,
   "metadata": {
    "collapsed": true
   },
   "outputs": [],
   "source": []
  }
 ],
 "metadata": {
  "kernelspec": {
   "display_name": "Python 3",
   "language": "python",
   "name": "python3"
  },
  "language_info": {
   "codemirror_mode": {
    "name": "ipython",
    "version": 3
   },
   "file_extension": ".py",
   "mimetype": "text/x-python",
   "name": "python",
   "nbconvert_exporter": "python",
   "pygments_lexer": "ipython3",
   "version": "3.6.1"
  }
 },
 "nbformat": 4,
 "nbformat_minor": 2
}
